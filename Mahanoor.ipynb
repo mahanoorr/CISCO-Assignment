{
 "cells": [
  {
   "cell_type": "code",
   "execution_count": 1,
   "metadata": {},
   "outputs": [
    {
     "name": "stdout",
     "output_type": "stream",
     "text": [
      "Twinkle, twinkle, little star \n",
      " \t How I wonder what you are! \n",
      " \t \t Up above the world so high, \n",
      " \t \t Like a diamond in the sky. \n",
      " Twinkle, twinkle, little star, \n",
      " \tHow I wonder what you are\n"
     ]
    }
   ],
   "source": [
    "print(\"Twinkle, twinkle, little star \\n \\t How I wonder what you are! \\n \\t \\t Up above the world so high, \\n \\t \\t Like a diamond in the sky. \\n Twinkle, twinkle, little star, \\n \\tHow I wonder what you are\")"
   ]
  },
  {
   "cell_type": "code",
   "execution_count": 17,
   "metadata": {},
   "outputs": [
    {
     "name": "stdout",
     "output_type": "stream",
     "text": [
      "python verion is 3.7.0 (default, Jun 28 2018, 08:04:48) [MSC v.1912 64 bit (AMD64)]\n",
      "Version info :  sys.version_info(major=3, minor=7, micro=0, releaselevel='final', serial=0)\n"
     ]
    }
   ],
   "source": [
    "import sys\n",
    "ver=sys.version\n",
    "print(\"python verion is \" + ver)\n",
    "info=sys.version_info\n",
    "print(\"Version info : \" , info)"
   ]
  },
  {
   "cell_type": "code",
   "execution_count": 19,
   "metadata": {},
   "outputs": [
    {
     "name": "stdout",
     "output_type": "stream",
     "text": [
      "Current Date & Time is  2019-11-02 21:31:31.407394\n"
     ]
    }
   ],
   "source": [
    "from datetime import datetime\n",
    "print(\"Current Date & Time is \" , datetime.now())"
   ]
  },
  {
   "cell_type": "code",
   "execution_count": 12,
   "metadata": {},
   "outputs": [
    {
     "name": "stdout",
     "output_type": "stream",
     "text": [
      "Enter radius of a circle 9\n",
      "The area of circle is  254.34\n"
     ]
    }
   ],
   "source": [
    "radius = int(input(\"Enter radius of a circle \"))\n",
    "print(\"The area of circle is \",(3.14*radius**2))"
   ]
  },
  {
   "cell_type": "code",
   "execution_count": 2,
   "metadata": {},
   "outputs": [
    {
     "name": "stdout",
     "output_type": "stream",
     "text": [
      "Enter your first name :\n",
      "Mahanoor\n",
      "Enter your last name : \n",
      "Naseer\n",
      "Naseer   Mahanoor\n"
     ]
    }
   ],
   "source": [
    "f_name=str(input(\"Enter your first name :\\n\"))\n",
    "l_name=str(input(\"Enter your last name : \\n\"))\n",
    "print(l_name , \" \" , f_name)"
   ]
  },
  {
   "cell_type": "code",
   "execution_count": 21,
   "metadata": {},
   "outputs": [
    {
     "name": "stdout",
     "output_type": "stream",
     "text": [
      "Enter first number : 5\n",
      "Enter second number : 15\n",
      "The addition of numbers is :  20\n"
     ]
    }
   ],
   "source": [
    "number_1 = int(input(\"Enter first number : \"))\n",
    "number_2 = int(input(\"Enter second number : \"))\n",
    "result = number_1 + number_2\n",
    "print(\"The addition of numbers is : \" , result)"
   ]
  },
  {
   "cell_type": "code",
   "execution_count": null,
   "metadata": {},
   "outputs": [],
   "source": []
  }
 ],
 "metadata": {
  "kernelspec": {
   "display_name": "Python 3",
   "language": "python",
   "name": "python3"
  },
  "language_info": {
   "codemirror_mode": {
    "name": "ipython",
    "version": 3
   },
   "file_extension": ".py",
   "mimetype": "text/x-python",
   "name": "python",
   "nbconvert_exporter": "python",
   "pygments_lexer": "ipython3",
   "version": "3.7.0"
  }
 },
 "nbformat": 4,
 "nbformat_minor": 2
}
